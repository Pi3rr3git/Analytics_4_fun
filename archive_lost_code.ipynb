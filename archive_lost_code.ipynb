{
 "cells": [
  {
   "cell_type": "code",
   "execution_count": null,
   "id": "691ba3f5",
   "metadata": {},
   "outputs": [],
   "source": [
    "from bs4 import BeautifulSoup\n",
    "import requests\n",
    "from io import StringIO\n",
    "import json\n",
    "import pandas as pd\n",
    "from sklearn.model_selection import train_test_split\n",
    "from sklearn.preprocessing import StandardScaler\n",
    "import tensorflow as tf"
   ]
  },
  {
   "cell_type": "code",
   "execution_count": null,
   "id": "74a9c0cb",
   "metadata": {},
   "outputs": [],
   "source": [
    "url = \"https://en.wikipedia.org/wiki/Lewis_Hamilton#Racing_record\"\n",
    "response = requests.get(url)\n",
    "soup = BeautifulSoup(response.text, 'html.parser')\n",
    "\n",
    "# Trouver tous les tableaux de la page\n",
    "tables = soup.find_all('table')\n",
    "\n",
    "# Trouver la section \"Racing career summary\"\n",
    "section_title = soup.find(\"span\", {\"id\": \"Racing_career_summary\"}) or \\\n",
    "                soup.find([\"h2\", \"h3\"], string=lambda text: \"Racing career summary\" in str(text))\n",
    "\n",
    "if section_title:\n",
    "    target_table = section_title.find_next(\"table\")\n",
    "    \n",
    "    # Trouver le numéro du tableau dans la liste globale\n",
    "    for i, table in enumerate(tables, 1):\n",
    "        if table == target_table:\n",
    "            print(f\"Le tableau 'Racing career summary' est le tableau n°{i} sur {len(tables)}\")\n",
    "            break\n",
    "else:\n",
    "    print(\"Section non trouvée\")"
   ]
  },
  {
   "cell_type": "code",
   "execution_count": null,
   "id": "722263a8",
   "metadata": {},
   "outputs": [
    {
     "ename": "",
     "evalue": "",
     "output_type": "error",
     "traceback": [
      "\u001b[1;31mThe kernel failed to start as 'TypeAliasType' could not be imported from 'C:\\Users\\Pierre-EmileMartin\\AppData\\Local\\Packages\\PythonSoftwareFoundation.Python.3.11_qbz5n2kfra8p0\\LocalCache\\local-packages\\Python311\\site-packages\\typing_extensions.py'.\n",
      "\u001b[1;31mClick <a href='https://aka.ms/kernelFailuresModuleImportErrFromFile'>here</a> for more info."
     ]
    }
   ],
   "source": [
    "Lewis = tables[4]\n",
    "Lewis = pd.read_html(StringIO(str(tables[4])))[0]\n",
    "\n",
    "Lewis\n"
   ]
  },
  {
   "cell_type": "markdown",
   "id": "ee63a9d7",
   "metadata": {},
   "source": [
    "# Nous voullons que les saison de f1"
   ]
  },
  {
   "cell_type": "code",
   "execution_count": null,
   "id": "f137c395",
   "metadata": {},
   "outputs": [
    {
     "ename": "",
     "evalue": "",
     "output_type": "error",
     "traceback": [
      "\u001b[1;31mThe kernel failed to start as 'TypeAliasType' could not be imported from 'C:\\Users\\Pierre-EmileMartin\\AppData\\Local\\Packages\\PythonSoftwareFoundation.Python.3.11_qbz5n2kfra8p0\\LocalCache\\local-packages\\Python311\\site-packages\\typing_extensions.py'.\n",
      "\u001b[1;31mClick <a href='https://aka.ms/kernelFailuresModuleImportErrFromFile'>here</a> for more info."
     ]
    }
   ],
   "source": [
    "Lewis_f1 = Lewis[Lewis['Series'] == 'Formula One'].copy()\n",
    "\n",
    "# On garde uniquement les lignes où la colonne 't' est numérique\n",
    "# Cette ligne convertit les valeurs en nombre, les erreurs deviennent NaN\n",
    "Lewis_f1['Races'] = pd.to_numeric(Lewis_f1['Races'], errors='coerce')\n",
    "# Lewis_f1['Races'] = Lewis_f1['t'].astype(int)\n",
    "# On retire les NaN (donc les valeurs non numériques)\n",
    "Lewis_f1 = Lewis_f1.dropna(subset=['Races'])\n",
    "Lewis_f1\n",
    "\n",
    "# je veux faire les maths que sur race/win/poles/poduims/points et je dois trouver le salaire du mec"
   ]
  },
  {
   "cell_type": "code",
   "execution_count": null,
   "id": "3c047db1",
   "metadata": {},
   "outputs": [
    {
     "ename": "",
     "evalue": "",
     "output_type": "error",
     "traceback": [
      "\u001b[1;31mThe kernel failed to start as 'TypeAliasType' could not be imported from 'C:\\Users\\Pierre-EmileMartin\\AppData\\Local\\Packages\\PythonSoftwareFoundation.Python.3.11_qbz5n2kfra8p0\\LocalCache\\local-packages\\Python311\\site-packages\\typing_extensions.py'.\n",
      "\u001b[1;31mClick <a href='https://aka.ms/kernelFailuresModuleImportErrFromFile'>here</a> for more info."
     ]
    }
   ],
   "source": []
  },
  {
   "cell_type": "code",
   "execution_count": null,
   "id": "faadf6e7",
   "metadata": {},
   "outputs": [
    {
     "ename": "",
     "evalue": "",
     "output_type": "error",
     "traceback": [
      "\u001b[1;31mThe kernel failed to start as 'TypeAliasType' could not be imported from 'C:\\Users\\Pierre-EmileMartin\\AppData\\Local\\Packages\\PythonSoftwareFoundation.Python.3.11_qbz5n2kfra8p0\\LocalCache\\local-packages\\Python311\\site-packages\\typing_extensions.py'.\n",
      "\u001b[1;31mClick <a href='https://aka.ms/kernelFailuresModuleImportErrFromFile'>here</a> for more info."
     ]
    }
   ],
   "source": []
  },
  {
   "cell_type": "code",
   "execution_count": null,
   "id": "7fccd659",
   "metadata": {},
   "outputs": [
    {
     "ename": "",
     "evalue": "",
     "output_type": "error",
     "traceback": [
      "\u001b[1;31mThe kernel failed to start as 'TypeAliasType' could not be imported from 'C:\\Users\\Pierre-EmileMartin\\AppData\\Local\\Packages\\PythonSoftwareFoundation.Python.3.11_qbz5n2kfra8p0\\LocalCache\\local-packages\\Python311\\site-packages\\typing_extensions.py'.\n",
      "\u001b[1;31mClick <a href='https://aka.ms/kernelFailuresModuleImportErrFromFile'>here</a> for more info."
     ]
    }
   ],
   "source": []
  },
  {
   "cell_type": "code",
   "execution_count": null,
   "id": "17ee037c",
   "metadata": {},
   "outputs": [],
   "source": []
  }
 ],
 "metadata": {
  "kernelspec": {
   "display_name": "Python 3",
   "language": "python",
   "name": "python3"
  },
  "language_info": {
   "name": "python",
   "version": "3.11.9"
  }
 },
 "nbformat": 4,
 "nbformat_minor": 5
}
