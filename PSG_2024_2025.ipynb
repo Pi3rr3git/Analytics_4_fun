{
 "cells": [
  {
   "cell_type": "markdown",
   "id": "5a3a3bf6",
   "metadata": {},
   "source": [
    "# Will PSG win the Champions League final?"
   ]
  },
  {
   "cell_type": "markdown",
   "id": "480e865d",
   "metadata": {},
   "source": [
    "### Analysis and comparison of PSG's first and second half of the 24/25 season (21/05/25)."
   ]
  },
  {
   "cell_type": "markdown",
   "id": "71662474",
   "metadata": {},
   "source": [
    "### (pytorch)"
   ]
  },
  {
   "cell_type": "code",
   "execution_count": 1,
   "id": "ff5d6c66",
   "metadata": {},
   "outputs": [],
   "source": [
    "from selenium import webdriver\n",
    "from selenium.webdriver.edge.service import Service\n",
    "from webdriver_manager.microsoft import EdgeChromiumDriverManager\n",
    "from selenium.webdriver.chrome.service import Service\n",
    "from webdriver_manager.chrome import ChromeDriverManager\n",
    "from selenium.webdriver.chrome.options import Options\n",
    "from bs4 import BeautifulSoup\n",
    "import time\n",
    "import pandas as pd\n",
    "from io import StringIO"
   ]
  },
  {
   "cell_type": "markdown",
   "id": "ab952c8d",
   "metadata": {},
   "source": [
    "### Let's scrabble for data on the Internet. We want to find data from PSG's matches this season."
   ]
  },
  {
   "cell_type": "code",
   "execution_count": 26,
   "id": "27df2587",
   "metadata": {},
   "outputs": [],
   "source": [
    "# Options to make the browser \"invisible\" (headless mode)\n",
    "options = Options()\n",
    "options.add_argument(\"--headless\")  # mode sans interface\n",
    "options.add_argument(\"--disable-gpu\")\n",
    "options.add_argument(\"--no-sandbox\")\n",
    "\n",
    "# Launch the browser with the appropriate driver\n",
    "driver = webdriver.Chrome(service=Service(ChromeDriverManager().install()), options=options)\n",
    "\n",
    "# For Edge browser (currently active):\n",
    "# driver = webdriver.Edge(service=Service(EdgeChromiumDriverManager().install()),options=options)\n",
    "\n",
    "# Go to the main page\n",
    "# url = \"https://fbref.com/en/squads/e2d8892c/Paris-Saint-Germain-Stats\"  # all tab\n",
    "\n",
    "# only Ligue 1\n",
    "# url = \"https://fbref.com/en/squads/e2d8892c/2024-2025/matchlogs/c13/schedule/Paris-Saint-Germain-Scores-and-Fixtures-Ligue-1\"  \n",
    "\n",
    "# all competition tab\n",
    "url = \"https://fbref.com/en/squads/e2d8892c/2024-2025/matchlogs/all_comps/schedule/Paris-Saint-Germain-Scores-and-Fixtures-All-Competitions \" \n",
    "driver.get(url)\n",
    "\n",
    "# Wait for the page to fully load (you can adjust the sleep time if needed)\n",
    "time.sleep(5)\n",
    "\n",
    "# Get the page's HTML content\n",
    "html = driver.page_source\n",
    "soup = BeautifulSoup(html, \"html.parser\")\n",
    "\n",
    "# Close the browser session\n",
    "driver.quit()\n",
    "\n",
    "# You can now parse the content with BeautifulSoup as usual\n",
    "# print(soup.prettify())  # Uncomment this to view the full HTML structure\n"
   ]
  },
  {
   "cell_type": "markdown",
   "id": "d1bd33d8",
   "metadata": {},
   "source": [
    "#### On this page there are a lot of tables, we are looking for one in particular that covers the 24/25 PSG season."
   ]
  },
  {
   "cell_type": "code",
   "execution_count": 27,
   "id": "dcdcb7f5",
   "metadata": {},
   "outputs": [
    {
     "name": "stdout",
     "output_type": "stream",
     "text": [
      "Number of tab found: 1\n",
      "Scores & Fixtures 2024-2025 Paris Saint-Germain: All Competitions Table\n",
      "-----\n"
     ]
    }
   ],
   "source": [
    "tables = soup.find_all(\"table\")\n",
    "print(f\"Number of tab found: {len(tables)}\")\n",
    "\n",
    "for i, table in enumerate(tables):\n",
    "    caption = table.find(\"caption\")\n",
    "    title = caption.text if caption else f\"Tableau {i+1} without caption\"\n",
    "    print(title)\n",
    "    print(\"-----\")"
   ]
  },
  {
   "cell_type": "markdown",
   "id": "f7f4e20b",
   "metadata": {},
   "source": [
    "#### Once we have found the table we want, we filter it to keep the following parameters:  Date | Composition | Round | Venue | Result | GF | GA | Opponent | xG | xGA | Poss"
   ]
  },
  {
   "cell_type": "code",
   "execution_count": 34,
   "id": "f8d67d87",
   "metadata": {},
   "outputs": [
    {
     "name": "stdout",
     "output_type": "stream",
     "text": [
      "         Date          Comp         Round Venue Result   GF   GA     Opponent  \\\n",
      "0  2024-08-16       Ligue 1   Matchweek 1  Away      W  4.0  1.0     Le Havre   \n",
      "1  2024-08-23       Ligue 1   Matchweek 2  Home      W  6.0  0.0  Montpellier   \n",
      "2  2024-09-01       Ligue 1   Matchweek 3  Away      W  3.0  1.0        Lille   \n",
      "3  2024-09-14       Ligue 1   Matchweek 4  Home      W  3.0  1.0        Brest   \n",
      "4  2024-09-18  Champions Lg  League phase  Home      W  1.0  0.0    es Girona   \n",
      "\n",
      "    xG  xGA  Poss  \n",
      "0  2.9  0.2  76.0  \n",
      "1  3.8  0.6  68.0  \n",
      "2  2.6  1.4  58.0  \n",
      "3  2.8  1.0  67.0  \n",
      "4  2.1  0.2  64.0  \n"
     ]
    }
   ],
   "source": [
    "tb_saison = tables[0]  # numéro commence à 0\n",
    "# tb_saison = tables[9]  # numéro commence à 0\n",
    "\n",
    "caption = table.find(\"caption\")\n",
    "# print(caption.text) \n",
    "\n",
    "# Convert the HTML table to a DataFrame, avoiding warnings\n",
    "saison_df = pd.read_html(StringIO(str(tables[0])))[0]\n",
    "# saison_df = pd.read_html(StringIO(str(tables[9])))[0]\n",
    "# saison_df.dropna(inplace=True)\n",
    "\n",
    "\n",
    "\n",
    "saison_filtrer = saison_df.drop(columns = [\"Time\",\"Day\",\"Captain\",\"Formation\",\"Referee\",\"Opp Formation\",\"Attendance\",\"Match Report\",\"Notes\"])\n",
    "\n",
    "saison_filtrer.loc[24, \"GF\"] = 1 # penalty score removed\n",
    "saison_filtrer.loc[24, \"GA\"] = 1 # penalty score removed\n",
    "saison_filtrer.loc[45, \"GF\"] = 1 # penalty score removed\n",
    "saison_filtrer.loc[45, \"GA\"] = 0 # penalty score removed\n",
    "saison_filtrer.drop([10,21,32,43,54,61,62], inplace=True)\n",
    "\n",
    "saison_filtrer\n",
    "\n",
    "colonnes = [\"GF\", \"GA\", \"xG\",\"xGA\",\"Poss\"]  # remplace par tes colonnes\n",
    "saison_filtrer[colonnes] = saison_filtrer[colonnes].astype(float)\n",
    "\n",
    "print(saison_filtrer.head())\n",
    "\n"
   ]
  },
  {
   "cell_type": "markdown",
   "id": "deb19892",
   "metadata": {},
   "source": [
    "#### We create on df for the first and second half of the season (separated by the winter break)"
   ]
  },
  {
   "cell_type": "code",
   "execution_count": 37,
   "id": "d74926a2",
   "metadata": {},
   "outputs": [
    {
     "data": {
      "text/html": [
       "<div>\n",
       "<style scoped>\n",
       "    .dataframe tbody tr th:only-of-type {\n",
       "        vertical-align: middle;\n",
       "    }\n",
       "\n",
       "    .dataframe tbody tr th {\n",
       "        vertical-align: top;\n",
       "    }\n",
       "\n",
       "    .dataframe thead th {\n",
       "        text-align: right;\n",
       "    }\n",
       "</style>\n",
       "<table border=\"1\" class=\"dataframe\">\n",
       "  <thead>\n",
       "    <tr style=\"text-align: right;\">\n",
       "      <th></th>\n",
       "      <th>Date</th>\n",
       "      <th>Comp</th>\n",
       "      <th>Round</th>\n",
       "      <th>Venue</th>\n",
       "      <th>Result</th>\n",
       "      <th>GF</th>\n",
       "      <th>GA</th>\n",
       "      <th>Opponent</th>\n",
       "      <th>xG</th>\n",
       "      <th>xGA</th>\n",
       "      <th>Poss</th>\n",
       "    </tr>\n",
       "  </thead>\n",
       "  <tbody>\n",
       "    <tr>\n",
       "      <th>26</th>\n",
       "      <td>2025-01-12</td>\n",
       "      <td>Ligue 1</td>\n",
       "      <td>Matchweek 17</td>\n",
       "      <td>Home</td>\n",
       "      <td>W</td>\n",
       "      <td>2.0</td>\n",
       "      <td>1.0</td>\n",
       "      <td>Saint-Étienne</td>\n",
       "      <td>4.1</td>\n",
       "      <td>0.4</td>\n",
       "      <td>59.0</td>\n",
       "    </tr>\n",
       "    <tr>\n",
       "      <th>28</th>\n",
       "      <td>2025-01-18</td>\n",
       "      <td>Ligue 1</td>\n",
       "      <td>Matchweek 18</td>\n",
       "      <td>Away</td>\n",
       "      <td>W</td>\n",
       "      <td>2.0</td>\n",
       "      <td>1.0</td>\n",
       "      <td>Lens</td>\n",
       "      <td>1.2</td>\n",
       "      <td>0.7</td>\n",
       "      <td>66.0</td>\n",
       "    </tr>\n",
       "    <tr>\n",
       "      <th>29</th>\n",
       "      <td>2025-01-22</td>\n",
       "      <td>Champions Lg</td>\n",
       "      <td>League phase</td>\n",
       "      <td>Home</td>\n",
       "      <td>W</td>\n",
       "      <td>4.0</td>\n",
       "      <td>2.0</td>\n",
       "      <td>eng Manchester City</td>\n",
       "      <td>2.8</td>\n",
       "      <td>1.7</td>\n",
       "      <td>63.0</td>\n",
       "    </tr>\n",
       "    <tr>\n",
       "      <th>30</th>\n",
       "      <td>2025-01-25</td>\n",
       "      <td>Ligue 1</td>\n",
       "      <td>Matchweek 19</td>\n",
       "      <td>Home</td>\n",
       "      <td>D</td>\n",
       "      <td>1.0</td>\n",
       "      <td>1.0</td>\n",
       "      <td>Reims</td>\n",
       "      <td>1.2</td>\n",
       "      <td>0.9</td>\n",
       "      <td>78.0</td>\n",
       "    </tr>\n",
       "    <tr>\n",
       "      <th>31</th>\n",
       "      <td>2025-01-29</td>\n",
       "      <td>Champions Lg</td>\n",
       "      <td>League phase</td>\n",
       "      <td>Away</td>\n",
       "      <td>W</td>\n",
       "      <td>4.0</td>\n",
       "      <td>1.0</td>\n",
       "      <td>de Stuttgart</td>\n",
       "      <td>2.4</td>\n",
       "      <td>0.8</td>\n",
       "      <td>58.0</td>\n",
       "    </tr>\n",
       "  </tbody>\n",
       "</table>\n",
       "</div>"
      ],
      "text/plain": [
       "         Date          Comp         Round Venue Result   GF   GA  \\\n",
       "26 2025-01-12       Ligue 1  Matchweek 17  Home      W  2.0  1.0   \n",
       "28 2025-01-18       Ligue 1  Matchweek 18  Away      W  2.0  1.0   \n",
       "29 2025-01-22  Champions Lg  League phase  Home      W  4.0  2.0   \n",
       "30 2025-01-25       Ligue 1  Matchweek 19  Home      D  1.0  1.0   \n",
       "31 2025-01-29  Champions Lg  League phase  Away      W  4.0  1.0   \n",
       "\n",
       "               Opponent   xG  xGA  Poss  \n",
       "26        Saint-Étienne  4.1  0.4  59.0  \n",
       "28                 Lens  1.2  0.7  66.0  \n",
       "29  eng Manchester City  2.8  1.7  63.0  \n",
       "30                Reims  1.2  0.9  78.0  \n",
       "31         de Stuttgart  2.4  0.8  58.0  "
      ]
     },
     "execution_count": 37,
     "metadata": {},
     "output_type": "execute_result"
    }
   ],
   "source": [
    "#First part of the saison\n",
    "saison_filtrer[\"Date\"] = pd.to_datetime(saison_filtrer[\"Date\"], format=\"%Y-%m-%d\", errors='coerce')\n",
    "date_limite = pd.to_datetime(\"2025-01-01\")\n",
    "first_prt_saison = saison_filtrer[saison_filtrer[\"Date\"] < date_limite].copy()\n",
    "first_prt_saison.dropna(inplace=True)\n",
    "first_prt_saison.head()\n",
    "\n",
    "#Second part of the saison\n",
    "saison_filtrer[\"Date\"] = pd.to_datetime(saison_filtrer[\"Date\"], format=\"%Y-%m-%d\", errors='coerce')\n",
    "date_limite = pd.to_datetime(\"2025-01-01\")\n",
    "second_prt_saison = saison_filtrer[saison_filtrer[\"Date\"] > date_limite].copy()\n",
    "second_prt_saison.dropna(inplace=True)\n",
    "second_prt_saison.head()"
   ]
  },
  {
   "cell_type": "markdown",
   "id": "3b1e0ea6",
   "metadata": {},
   "source": [
    "### We've put together a first analysis to sum up each part of PSG's season in a nutshell."
   ]
  },
  {
   "cell_type": "code",
   "execution_count": 38,
   "id": "c2dc7e1a",
   "metadata": {},
   "outputs": [
    {
     "name": "stdout",
     "output_type": "stream",
     "text": [
      "PSG achieved 14 wins out of 22 matches with 5 draws and 3 losses in the first half of the season.\n",
      "PSG achieved 22 wins out of 28 matches with 4 draws and 2 losses in the second half of the season.\n",
      "--------------------------------------------------------------------------------------------------------------------------\n",
      "\n",
      "PSG had a better second half of the season, winning 78.57% of their matches \n",
      "compared to 63.64% in the first half, despite playing more matches.\n"
     ]
    }
   ],
   "source": [
    "total_matches = first_prt_saison.shape[0]\n",
    "wins1, draw1, loss1 = first_prt_saison[\"Result\"].value_counts()\n",
    "ration1 = round((wins1/total_matches)*100,2)\n",
    "print(f\"PSG achieved {wins1} wins out of {total_matches} matches with {draw1} draws and {loss1} losses in the first half of the season.\")\n",
    "\n",
    "total_matches = second_prt_saison.shape[0]\n",
    "wins2, draw2, loss2 = second_prt_saison[\"Result\"].value_counts()\n",
    "ration2 = round((wins2/total_matches)*100,2)\n",
    "print(f\"PSG achieved {wins2} wins out of {total_matches} matches with {draw2} draws and {loss2} losses in the second half of the season.\")\n",
    "print(\"--------------------------------------------------------------------------------------------------------------------------\\n\")\n",
    "\n",
    " \n",
    "print(f\"PSG had a better second half of the season, winning {ration2}% of their matches \\ncompared to {ration1}% in the first half, despite playing more matches.\")\n"
   ]
  },
  {
   "cell_type": "code",
   "execution_count": 40,
   "id": "0a47efb7",
   "metadata": {},
   "outputs": [
    {
     "name": "stdout",
     "output_type": "stream",
     "text": [
      "For the first half of the season:\n",
      "PSG has an average of 2.27 goals scored (50.0) and 0.91 goals conceded (20.0) with an overall possession of 67.14%  | (2.4: xG, 0.91: xGA).\n",
      "--------------------------------------------------------------------------------------------------------------------------\n",
      "\n",
      "For the second half of the season:\n",
      "PSG has an average of 2.68 goals scored (75.0) and 1.07 goals conceded (30.0) with an overall possession of 65.07%  | (2.45: xG, 1.04: xGA).\n"
     ]
    }
   ],
   "source": [
    "def moyenne(df,prt_saison):\n",
    "    moy_b = round(df[\"GF\"].mean(),2)\n",
    "    moy_c = round(df[\"GA\"].mean(),2)\n",
    "    moy_xg = round(df[\"xG\"].mean(),2)\n",
    "    moy_xga = round(df[\"xGA\"].mean(),2)\n",
    "    moy_poss = round(df[\"Poss\"].mean(),2)\n",
    "    nb_g = df[\"GF\"].sum()\n",
    "    nb_a = df[\"GA\"].sum()\n",
    "    if prt_saison == 1:\n",
    "        print(\"For the first half of the season:\")\n",
    "    elif prt_saison == 2:\n",
    "        print(\"For the second half of the season:\")\n",
    "\n",
    "    print(f\"PSG has an average of {moy_b} goals scored ({nb_g}) and {moy_c} goals conceded ({nb_a}) with an overall possession of {moy_poss}%  | ({moy_xg}: xG, {moy_xga}: xGA).\")\n",
    "\n",
    "\n",
    "moyenne(first_prt_saison,1)\n",
    "print(\"--------------------------------------------------------------------------------------------------------------------------\\n\")\n",
    "moyenne(second_prt_saison,2)"
   ]
  },
  {
   "cell_type": "markdown",
   "id": "33728401",
   "metadata": {},
   "source": [
    "\n",
    "\n",
    "# Prediction on the outcome of a match.\n",
    "### Will PSG win their Champions League final with the qualities Luis Enrique has given his team?"
   ]
  },
  {
   "cell_type": "code",
   "execution_count": 41,
   "id": "93d6099b",
   "metadata": {},
   "outputs": [],
   "source": [
    "import pandas as pd\n",
    "import numpy as np\n",
    "from sklearn.model_selection import train_test_split\n",
    "import torch\n",
    "from torch import nn, optim\n",
    "from torch.utils.data import TensorDataset, DataLoader"
   ]
  },
  {
   "cell_type": "code",
   "execution_count": 42,
   "id": "14a6dc10",
   "metadata": {},
   "outputs": [
    {
     "name": "stdout",
     "output_type": "stream",
     "text": [
      "Epoch 1/20, Loss: 9.7253\n",
      "Epoch 2/20, Loss: 7.0340\n",
      "Epoch 3/20, Loss: 4.9740\n",
      "Epoch 4/20, Loss: 3.7660\n",
      "Epoch 5/20, Loss: 4.3378\n",
      "Epoch 6/20, Loss: 3.9328\n",
      "Epoch 7/20, Loss: 3.6080\n",
      "Epoch 8/20, Loss: 3.5004\n",
      "Epoch 9/20, Loss: 3.7240\n",
      "Epoch 10/20, Loss: 3.7887\n",
      "Epoch 11/20, Loss: 3.3675\n",
      "Epoch 12/20, Loss: 3.6669\n",
      "Epoch 13/20, Loss: 3.2896\n",
      "Epoch 14/20, Loss: 3.4775\n",
      "Epoch 15/20, Loss: 3.3129\n",
      "Epoch 16/20, Loss: 3.2362\n",
      "Epoch 17/20, Loss: 3.3571\n",
      "Epoch 18/20, Loss: 3.2348\n",
      "Epoch 19/20, Loss: 3.2389\n",
      "Epoch 20/20, Loss: 3.2239\n",
      "Accuracy: 70.00%\n"
     ]
    }
   ],
   "source": [
    "# Assume your DataFrame is called `saison_filtrer`\n",
    "\n",
    "# Map match results to numeric values: Win=2, Draw=1, Loss=0\n",
    "# Map match venue: Away=0, Home=1\n",
    "result_map = {\"W\": 2, \"D\": 1, \"L\": 0}\n",
    "venue_map = {\"Away\": 0, \"Home\": 1}\n",
    "\n",
    "pred_resultat = saison_filtrer.copy()\n",
    "pred_resultat = pred_resultat.drop(columns = [\"GF\", \"GA\"])\n",
    "pred_resultat[\"Cible\"] = pred_resultat[\"Result\"].map(result_map)\n",
    "pred_resultat[\"Venue\"] = pred_resultat[\"Venue\"].map(venue_map)\n",
    "\n",
    "\n",
    "features = [\"Venue\", \"xG\", \"xGA\", \"Poss\"]\n",
    "target = \"Cible\"\n",
    "\n",
    "pred_resultat.dropna(subset=features + [target], inplace=True)\n",
    "\n",
    "X = pred_resultat[features].values.astype(\"float32\")\n",
    "y = pred_resultat[target].values.astype(\"int64\")\n",
    "\n",
    "X_train, X_test, y_train, y_test = train_test_split(X, y, test_size=0.2, random_state=42)\n",
    "\n",
    "X_train_tensor = torch.tensor(X_train)\n",
    "y_train_tensor = torch.tensor(y_train)\n",
    "X_test_tensor = torch.tensor(X_test)\n",
    "y_test_tensor = torch.tensor(y_test)\n",
    "\n",
    "train_dataset = TensorDataset(X_train_tensor, y_train_tensor)\n",
    "train_loader = DataLoader(train_dataset, batch_size=8, shuffle=True)\n",
    "\n",
    "\n",
    "class SimpleClassifier(nn.Module):\n",
    "    def __init__(self, input_size, hidden_size=16, output_size=3):\n",
    "        super().__init__()\n",
    "        self.model = nn.Sequential(\n",
    "            nn.Linear(input_size, hidden_size),\n",
    "            nn.ReLU(),\n",
    "            nn.Linear(hidden_size, output_size)\n",
    "        )\n",
    "\n",
    "    def forward(self, x):\n",
    "        return self.model(x)\n",
    "\n",
    "# model = SimpleClassifier(input_size=6)  # 6 features \n",
    "model = SimpleClassifier(input_size=4)  # car tu as 4 colonnes en entrée\n",
    "\n",
    "criterion = nn.CrossEntropyLoss()\n",
    "optimizer = optim.Adam(model.parameters(), lr=0.01)\n",
    "\n",
    "\n",
    "\n",
    "for epoch in range(20):\n",
    "    model.train()\n",
    "    total_loss = 0\n",
    "    for batch_X, batch_y in train_loader:\n",
    "        optimizer.zero_grad()\n",
    "        outputs = model(batch_X)\n",
    "        loss = criterion(outputs, batch_y)\n",
    "        loss.backward()\n",
    "        optimizer.step()\n",
    "        total_loss += loss.item()\n",
    "    print(f\"Epoch {epoch+1}/20, Loss: {total_loss:.4f}\")\n",
    "\n",
    "\n",
    "model.eval()\n",
    "with torch.no_grad():\n",
    "    outputs = model(X_test_tensor)\n",
    "    predicted = torch.argmax(outputs, dim=1)\n",
    "    accuracy = (predicted == y_test_tensor).float().mean().item()\n",
    "    print(f\"Accuracy: {accuracy * 100:.2f}%\")\n",
    "\n",
    "\n"
   ]
  },
  {
   "cell_type": "markdown",
   "id": "19c4a989",
   "metadata": {},
   "source": [
    "#### Teston our prediction model, by entering values in the following parameters we could determine whether PSG would win their match."
   ]
  },
  {
   "cell_type": "code",
   "execution_count": 43,
   "id": "fadc90fe",
   "metadata": {},
   "outputs": [
    {
     "name": "stdout",
     "output_type": "stream",
     "text": [
      "Example: home match, forecast 2.4 xG, 2.9 xGA, 50% possession\n",
      "Predicted result:Win\n"
     ]
    }
   ],
   "source": [
    "# print(\"Exemple : match à domicile, prévision de 1 buts marqués, 4 encaissé, 2.4 xG, 2.9 xGA, 50% possession\")\n",
    "print(\"Example: home match, forecast 2.4 xG, 2.9 xGA, 50% possession\")\n",
    "\n",
    "venue = 0.0       # Home\n",
    "gf = 1.0          # prévision de goal scored\n",
    "ga = 4.0          # prévision de goal took\n",
    "xg = 0.4          # Xg\n",
    "xga = 6.9         # Xga \n",
    "poss = 30.0       # Possession\n",
    "\n",
    "# new_match = np.array([[venue, gf, ga, xg, xga, poss]], dtype=np.float32)\n",
    "new_match = np.array([[venue, xg, xga, poss]], dtype=np.float32)\n",
    "\n",
    "new_match_tensor = torch.tensor(new_match)\n",
    "\n",
    "with torch.no_grad():\n",
    "    output = model(new_match_tensor)\n",
    "    predicted_class = torch.argmax(output, dim=1).item()\n",
    "\n",
    "label_map = {0: \"Loss\", 1: \"Draw\", 2: \"Win\"}\n",
    "print(f\"Predicted result:{label_map[predicted_class]}\")\n"
   ]
  },
  {
   "cell_type": "markdown",
   "id": "b8f66995",
   "metadata": {},
   "source": [
    "## Today we know that PSG are European champions !!!!!\n",
    "\n",
    "#### Now that the match is over and we have the parameters (home match, xG, xGA, possession), let's try out our model and see what results it gives for the final."
   ]
  },
  {
   "cell_type": "code",
   "execution_count": 44,
   "id": "065d4e57",
   "metadata": {},
   "outputs": [
    {
     "name": "stdout",
     "output_type": "stream",
     "text": [
      "Résultat prédit : Win\n"
     ]
    }
   ],
   "source": [
    "venue = 1.0       # away\n",
    "xg = 3.1          # Xg\n",
    "xga = 0.5         # Xga \n",
    "poss = 59.30       # Possession\n",
    "\n",
    "new_match = np.array([[venue, xg, xga, poss]], dtype=np.float32)\n",
    "\n",
    "new_match_tensor = torch.tensor(new_match)\n",
    "\n",
    "with torch.no_grad():\n",
    "    output = model(new_match_tensor)\n",
    "    predicted_class = torch.argmax(output, dim=1).item()\n",
    "\n",
    "label_map = {0: \"\", 1: \"Draw\", 2: \"Win\"}\n",
    "print(f\"Résultat prédit : {label_map[predicted_class]}\")"
   ]
  },
  {
   "cell_type": "code",
   "execution_count": null,
   "id": "62a68e82",
   "metadata": {},
   "outputs": [],
   "source": []
  }
 ],
 "metadata": {
  "kernelspec": {
   "display_name": "Python 3",
   "language": "python",
   "name": "python3"
  },
  "language_info": {
   "codemirror_mode": {
    "name": "ipython",
    "version": 3
   },
   "file_extension": ".py",
   "mimetype": "text/x-python",
   "name": "python",
   "nbconvert_exporter": "python",
   "pygments_lexer": "ipython3",
   "version": "3.11.9"
  }
 },
 "nbformat": 4,
 "nbformat_minor": 5
}
